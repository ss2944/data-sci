{
 "cells": [
  {
   "cell_type": "markdown",
   "metadata": {},
   "source": [
    "# Data Collection Subject\n",
    "\n",
    "How does the economy impact the popularity of movie generes?"
   ]
  },
  {
   "cell_type": "markdown",
   "metadata": {},
   "source": [
    "# Scraping Data on Movies"
   ]
  },
  {
   "cell_type": "code",
   "execution_count": 2,
   "metadata": {},
   "outputs": [],
   "source": [
    "import sys\n",
    "import requests\n",
    "from bs4 import BeautifulSoup\n",
    "import pandas as pd\n",
    "import numpy as np"
   ]
  },
  {
   "cell_type": "code",
   "execution_count": 3,
   "metadata": {},
   "outputs": [],
   "source": [
    "url = 'https://www.the-numbers.com/market/genres'\n",
    "html = requests.get(url).content\n",
    "soup = BeautifulSoup(html,'lxml')"
   ]
  },
  {
   "cell_type": "code",
   "execution_count": 4,
   "metadata": {},
   "outputs": [],
   "source": [
    "data = soup.find_all('table')[0].get_text()\n",
    "newdata = data.split('\\n')\n",
    "\n",
    "for count in range(newdata.count('')):\n",
    "    newdata.remove('')\n",
    "    \n",
    "newdata = newdata[1:]\n",
    "\n",
    "genres=[]\n",
    "for index in range(len(newdata)):\n",
    "    if (index % 6)==1:\n",
    "        item = newdata[index]\n",
    "        genres.append(item)"
   ]
  },
  {
   "cell_type": "code",
   "execution_count": 5,
   "metadata": {},
   "outputs": [],
   "source": [
    "newgenre=genres[:8]\n",
    "for i in range(len(newgenre)):\n",
    "    if newgenre[i] == 'Thriller/Suspense': \n",
    "        newgenre[i]= 'Thriller-or-Suspense'\n",
    "    \n",
    "    if newgenre[i] == 'Romantic Comedy':\n",
    "        newgenre[i] = 'Romantic-Comedy'\n",
    "    \n",
    "    if newgenre[i] == 'Black Comedy':\n",
    "        newgenre[i] = 'Black-Comedy'"
   ]
  },
  {
   "cell_type": "code",
   "execution_count": 6,
   "metadata": {},
   "outputs": [],
   "source": [
    "#two dimensional list where dl[index] contains all of the market share datapoints by year for a genre\n",
    "dl =[]\n",
    "for genre in newgenre:\n",
    "    #market share for each genre\n",
    "    datalist=[]\n",
    "    url = 'https://www.the-numbers.com/graphs/market/selected-item/genres/genre/gengres/'+genre+'/'+genre+'#_ABSTRACT_RENDERED_ID_0'\n",
    "    html = requests.get(url).content\n",
    "    soup = BeautifulSoup(html,'lxml')\n",
    "    soup.find_all('script')[1].get_text()\n",
    "    \n",
    "    text =soup.find_all('script')[1].get_text()\n",
    "    newtext = text.split(';')\n",
    "    twotext = newtext[2].split('\\t')\n",
    "\n",
    "    for count in range(twotext.count('')):\n",
    "        twotext.remove('')\n",
    "\n",
    "    threetext = twotext[3][1:].split(', ')\n",
    "\n",
    "\n",
    "    for index in range(len(threetext)):\n",
    "        data = threetext[index].split(',')\n",
    "        year=data[0][2:6]\n",
    "        datapoint=float(data[2][:4])\n",
    "        datalist.append(datapoint/100)\n",
    "    \n",
    "    dl.append(datalist)\n",
    "\n",
    "#number of movies produced\n",
    "dlnummade=[]\n",
    "for genre in newgenre:\n",
    "    url='https://www.the-numbers.com/market/genre/'+genre\n",
    "    html = requests.get(url).content\n",
    "    soup = BeautifulSoup(html,'lxml')\n",
    "    p2text = soup.find_all('table')[1].get_text()\n",
    "    makesomepoints= p2text.split('\\n')\n",
    "\n",
    "    for x in range(makesomepoints.count('')):\n",
    "        makesomepoints.remove('')\n",
    "\n",
    "    tabledata = makesomepoints[1:]\n",
    "    pointsingenre=[]\n",
    "\n",
    "    for s in range(len(tabledata)):\n",
    "        if s%8==1:\n",
    "            pointsingenre.append(tabledata[s])\n",
    "    dlnummade.append(pointsingenre)"
   ]
  },
  {
   "cell_type": "code",
   "execution_count": 39,
   "metadata": {
    "scrolled": true
   },
   "outputs": [],
   "source": [
    "newdata=pd.DataFrame()\n",
    "#append market share\n",
    "index = 0\n",
    "for thegenre in newgenre:\n",
    "    if len(dl[index])!=26:\n",
    "        dl[index].insert(0,0)\n",
    "    newdata[thegenre + ' Market Share']=dl[index]\n",
    "    index += 1\n",
    "if len(newdata)!=24:\n",
    "    newdata = newdata.iloc[:-2]\n",
    "\n",
    "other=[]\n",
    "for x in list(range(1995,2019)):\n",
    "    other.append(1-final_data.loc[x][:8].sum())\n",
    "newdata[\"Other Genres Market Share\"] = other\n",
    "    \n",
    "gdp = pd.read_csv(\"gdp.csv\")[(1995-1961):]\n",
    "gdp.reset_index(inplace=True)\n",
    "newdata['GDP % Growth']= gdp[' GDP Growth (%)']\n",
    "newdata['GDP Annual Change']= gdp[' Annual Change']\n",
    "\n",
    "\n",
    "pce = pd.read_csv(\"pce.csv\")\n",
    "pcedata=[]\n",
    "for index in range(len(pce.loc[0])):\n",
    "    pcedata.append(pce.iloc[0][index])\n",
    "newdata['PCE'] = pcedata[2:]\n",
    "\n",
    "final_data = newdata.rename(index = lambda s: s + 1995)"
   ]
  },
  {
   "cell_type": "code",
   "execution_count": 45,
   "metadata": {},
   "outputs": [
    {
     "ename": "SyntaxError",
     "evalue": "invalid syntax (<ipython-input-45-b43ee6f8a459>, line 1)",
     "output_type": "error",
     "traceback": [
      "\u001b[0;36m  File \u001b[0;32m\"<ipython-input-45-b43ee6f8a459>\"\u001b[0;36m, line \u001b[0;32m1\u001b[0m\n\u001b[0;31m    final_data.to_csv(~/Coding/GitHub)\u001b[0m\n\u001b[0m                       ^\u001b[0m\n\u001b[0;31mSyntaxError\u001b[0m\u001b[0;31m:\u001b[0m invalid syntax\n"
     ]
    }
   ],
   "source": [
    "final_data.to_csv('data')"
   ]
  },
  {
   "cell_type": "code",
   "execution_count": null,
   "metadata": {},
   "outputs": [],
   "source": []
  }
 ],
 "metadata": {
  "kernelspec": {
   "display_name": "Python 3",
   "language": "python",
   "name": "python3"
  },
  "language_info": {
   "codemirror_mode": {
    "name": "ipython",
    "version": 3
   },
   "file_extension": ".py",
   "mimetype": "text/x-python",
   "name": "python",
   "nbconvert_exporter": "python",
   "pygments_lexer": "ipython3",
   "version": "3.7.4"
  }
 },
 "nbformat": 4,
 "nbformat_minor": 2
}
