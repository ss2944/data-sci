{
 "cells": [
  {
   "cell_type": "code",
   "execution_count": 1,
   "metadata": {},
   "outputs": [],
   "source": [
    "import sys\n",
    "import requests\n",
    "from bs4 import BeautifulSoup\n",
    "import pandas as pd\n",
    "import numpy as np\n",
    "import matplotlib.pyplot as plt\n",
    "import numpy as np\n",
    "from sklearn.linear_model import LinearRegression\n",
    "from sklearn.metrics import r2_score\n",
    "from scipy.special import comb\n",
    "from scipy.stats import spearmanr"
   ]
  },
  {
   "cell_type": "code",
   "execution_count": 2,
   "metadata": {},
   "outputs": [],
   "source": [
    "data=pd.read_csv('data.csv', index_col=0)"
   ]
  },
  {
   "cell_type": "code",
   "execution_count": 3,
   "metadata": {},
   "outputs": [],
   "source": [
    "col = data.columns[:len(data.columns)-3]\n",
    "income = data.columns[-1]\n",
    "headings=data.columns[:]\n",
    "summary = data.describe()"
   ]
  },
  {
   "cell_type": "code",
   "execution_count": 4,
   "metadata": {},
   "outputs": [],
   "source": [
    "stats = pd.DataFrame()\n",
    "for c in headings:\n",
    "    stats[c]=[summary[c][5],summary[c][1],summary[c][2]]\n",
    "stats.index = ['Med','Mean', 'StDev']"
   ]
  },
  {
   "cell_type": "code",
   "execution_count": 5,
   "metadata": {},
   "outputs": [
    {
     "data": {
      "image/png": "[encoded data removed]",
      "text/plain": [
       "<Figure size 432x288 with 1 Axes>"
      ]
     },
     "metadata": {
      "needs_background": "light"
     },
     "output_type": "display_data"
    }
   ],
   "source": [
    "means =tuple(stats.loc['Mean'])\n",
    "stdev = tuple(stats.loc['StDev'])\n",
    "med = tuple(stats.loc['Med'])\n",
    "\n",
    "ind = np.arange(12)  # the x locations for the groups\n",
    "width = 0.35  # the width of the bars\n",
    "\n",
    "fig, ax = plt.subplots()\n",
    "rects1 = ax.bar(ind - width/2, means, .35, label='Mean')\n",
    "rects2 = ax.bar(ind + width/2, med, width, yerr=stdev, label='Median')\n",
    "\n",
    "\n",
    "\n",
    "#ax.set_ylabel('Scores')\n",
    "#ax.set_title('Scores by group and gender')\n",
    "ax.set_xticks(ind)\n",
    "#ax.set_xticklabels(['Adv', 'Action', 'Drama','Com', 'Thril', 'Horr', 'RCom','Mus', 'Other', 'Ttl', 'GDP', 'Inc'])\n",
    "ax.legend()\n",
    "\n",
    "\n",
    "\n",
    "fig.tight_layout()\n",
    "\n",
    "\n",
    "plt.show()"
   ]
  },
  {
   "cell_type": "code",
   "execution_count": null,
   "metadata": {},
   "outputs": [],
   "source": []
  }
 ],
 "metadata": {
  "kernelspec": {
   "display_name": "Python 3",
   "language": "python",
   "name": "python3"
  },
  "language_info": {
   "codemirror_mode": {
    "name": "ipython",
    "version": 3
   },
   "file_extension": ".py",
   "mimetype": "text/x-python",
   "name": "python",
   "nbconvert_exporter": "python",
   "pygments_lexer": "ipython3",
   "version": "3.7.4"
  }
 },
 "nbformat": 4,
 "nbformat_minor": 2
}
