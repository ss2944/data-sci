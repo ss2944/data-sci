{
 "cells": [
  {
   "cell_type": "markdown",
   "metadata": {},
   "source": [
    "# Introduction\n",
    "Abstract\n",
    "In the following report, we will attempted to identify whether a relationship exists between the U.S. economic environment and the performance of the North American movie industry. Specifically, we will looked at the following questions:\n",
    "\n",
    "How does the economy affect the overall number of tickets sold?\n",
    "How does the economy affect the performance of different genres? Through a wide array of analysis, we have determined that the relationship between the economy and overall number of tickets sold is extremely strong. However, when take a closer look at the relationship between economic performance and genre market share, we found that most genres maintain a small but consistent market share, but the adventure and drama genre are strongly affected. The relationship is as follows...one rises, one falls, linear relatinship, etc.\n",
    "Background\n",
    "(literally none of this is right, need to do research ^.^) In recent years, the movie industry is becoming more globalized and finding the need to balance the sanctity of box-office premieres with the streaming demands. Ticket sales are dropping and movie theaters are becoming experiential instead of the primary medium for movie-goers. Moreover, market volatility is increasing, with three economic downturns in the past fifty years with only a few in the past hundered. By identifying how economic trends impact movie ticket sales and how economic performance affects movie genre preferences, the box-office movie industry can get a better pulse on consumer economic response. Specifically, companies can figure out whether they should releasing more box-office movies, and whether they should target a specific genre.\n",
    "\n",
    "Composition\n",
    "Dataset Overview\n",
    "\n",
    "To do so, we have compiled a dataset that contains the following information:\n",
    "\n",
    "Attributes: Total box office tickets sold in North America, market share based on genre in North America, annual % change in U.S. GDP, and change in annual % change of national U.S. income in chained dollars\n",
    "Observations: The data spans the years 1995-2018\n",
    "We specifically measure genres based on market share to remove any variation atrributable to change in movie tickets sold. Additionally we use GDP and income because GDP enables us to measure the health of the United States while income measures the economic health of individual consumers. We use chained dollars for income to account for inflation.\n",
    "\n",
    "This data is not designed to represent a larger population or to be extrapolated geographically. We are specifically looking at how the preformance of the U.S. market impacts the performance of the North American box-office movie industry.\n",
    "\n",
    "Dataset Sources\n",
    "\n",
    "This dataset has two key components: movie information and economic information.\n",
    "\n",
    "Movie information was scraped from the Numbers, a data analytics organization with the following mission: 'The Numbers was officially launched on October 17th, 1997 as a free resource for industry professionals, the investment community, and movie fans to track business information on movies.' The data collection was funded by Nash Information Services, a movide industry consulting service.\n",
    "\n",
    "Economic data from the U.S. Bureau of Economic Analysis (BEA) in the form of a csv. The government keeps track major economic indicators to aid them in making economic decisions. This data was funded by the U.S. government.\n",
    "\n",
    "People were not involved in any of the data collection.\n",
    "\n",
    "Data Preparation and Preprocessing\n",
    "\n",
    "Ticket sales was recorded by ticket sales. Market share by genre was found by first sorting movies based on eleven key genres. From there, the number of tickets sold for movies under a specific genre during a specific year were summed and divided by the total number of tickets sold. Government data is collected and analyzed the the BEA.\n",
    "\n",
    "Additionally, in our creation of the data, we did some processing. First, we selected the data range 1995-2018 because the Numbers data began at 1995 and we wanted to ensure that the annual data was in its entirety and felt that 2019 data might not be as accurate. A\n",
    "\n",
    "We also created an \"Other\" genre category, for genres such as Westerns, which have a market share of less than 1%. We decided to do this because if a genre captures less than one percent in the market, then any changes in them could be due to noise. For example, maybe a specific movie becomes really famous and draws attention to the genre. This does not mean that economic changes impacted consumer preferences. Moreover, since the market share is so low, any variation is magnified in proprtion to the data.\n",
    "\n",
    "Potential Influences on the Data\n",
    "\n",
    "Two key sources could impact the data. First, illegal movie streaming or \"pirating\" movies is a major concern in the box-office industry. Therefore, number of tickets purchased does not necessarily represent number of views. Secondly, movies are sorted based on genre, but a movie could fall under two different catergories, especially a popular one. This may cause a skew in favor of one genre over the other.\n",
    "\n",
    "Data Analytics\n",
    "Data Summary"
   ]
  },
  {
   "cell_type": "code",
   "execution_count": 26,
   "metadata": {},
   "outputs": [],
   "source": [
    "import sys\n",
    "import requests\n",
    "from bs4 import BeautifulSoup\n",
    "import pandas as pd\n",
    "import numpy as np\n",
    "import matplotlib.pyplot as plt\n",
    "import numpy as np\n",
    "from sklearn.linear_model import LinearRegression\n",
    "from sklearn.metrics import r2_score\n",
    "from scipy.special import comb\n",
    "from scipy.stats import spearmanr"
   ]
  },
  {
   "cell_type": "code",
   "execution_count": 27,
   "metadata": {},
   "outputs": [],
   "source": [
    "data=pd.read_csv('data.csv', index_col=0)"
   ]
  },
  {
   "cell_type": "code",
   "execution_count": 28,
   "metadata": {},
   "outputs": [],
   "source": [
    "col = data.columns[:len(data.columns)-3]\n",
    "income = data.columns[-1]\n",
    "headings=data.columns[:]\n",
    "summary = data.describe()"
   ]
  },
  {
   "cell_type": "code",
   "execution_count": 29,
   "metadata": {},
   "outputs": [],
   "source": [
    "stats = pd.DataFrame()\n",
    "for c in headings:\n",
    "    stats[c]=[summary[c][5],summary[c][1],summary[c][2]]\n",
    "stats.index = ['Med','Mean', 'StDev']"
   ]
  },
  {
   "cell_type": "code",
   "execution_count": 30,
   "metadata": {},
   "outputs": [
    {
     "ename": "ValueError",
     "evalue": "shape mismatch: objects cannot be broadcast to a single shape",
     "output_type": "error",
     "traceback": [
      "\u001b[0;31m---------------------------------------------------------------------------\u001b[0m",
      "\u001b[0;31mValueError\u001b[0m                                Traceback (most recent call last)",
      "\u001b[0;32m<ipython-input-30-55662eb7e0fe>\u001b[0m in \u001b[0;36m<module>\u001b[0;34m\u001b[0m\n\u001b[1;32m      7\u001b[0m \u001b[0;34m\u001b[0m\u001b[0m\n\u001b[1;32m      8\u001b[0m \u001b[0mfig\u001b[0m\u001b[0;34m,\u001b[0m \u001b[0max\u001b[0m \u001b[0;34m=\u001b[0m \u001b[0mplt\u001b[0m\u001b[0;34m.\u001b[0m\u001b[0msubplots\u001b[0m\u001b[0;34m(\u001b[0m\u001b[0;34m)\u001b[0m\u001b[0;34m\u001b[0m\u001b[0;34m\u001b[0m\u001b[0m\n\u001b[0;32m----> 9\u001b[0;31m \u001b[0mrects1\u001b[0m \u001b[0;34m=\u001b[0m \u001b[0max\u001b[0m\u001b[0;34m.\u001b[0m\u001b[0mbar\u001b[0m\u001b[0;34m(\u001b[0m\u001b[0mind\u001b[0m \u001b[0;34m-\u001b[0m \u001b[0mwidth\u001b[0m\u001b[0;34m/\u001b[0m\u001b[0;36m2\u001b[0m\u001b[0;34m,\u001b[0m \u001b[0mmeans\u001b[0m\u001b[0;34m,\u001b[0m \u001b[0mwidth\u001b[0m\u001b[0;34m,\u001b[0m \u001b[0myerr\u001b[0m\u001b[0;34m=\u001b[0m\u001b[0mstdev\u001b[0m\u001b[0;34m,\u001b[0m \u001b[0mlabel\u001b[0m\u001b[0;34m=\u001b[0m\u001b[0;34m'Mean'\u001b[0m\u001b[0;34m)\u001b[0m\u001b[0;34m\u001b[0m\u001b[0;34m\u001b[0m\u001b[0m\n\u001b[0m\u001b[1;32m     10\u001b[0m \u001b[0mrects2\u001b[0m \u001b[0;34m=\u001b[0m \u001b[0max\u001b[0m\u001b[0;34m.\u001b[0m\u001b[0mbar\u001b[0m\u001b[0;34m(\u001b[0m\u001b[0mind\u001b[0m \u001b[0;34m+\u001b[0m \u001b[0mwidth\u001b[0m\u001b[0;34m/\u001b[0m\u001b[0;36m2\u001b[0m\u001b[0;34m,\u001b[0m \u001b[0mmed\u001b[0m\u001b[0;34m,\u001b[0m \u001b[0mwidth\u001b[0m\u001b[0;34m,\u001b[0m \u001b[0myerr\u001b[0m\u001b[0;34m=\u001b[0m\u001b[0mstdev\u001b[0m\u001b[0;34m,\u001b[0m \u001b[0mlabel\u001b[0m\u001b[0;34m=\u001b[0m\u001b[0;34m'Median'\u001b[0m\u001b[0;34m)\u001b[0m\u001b[0;34m\u001b[0m\u001b[0;34m\u001b[0m\u001b[0m\n\u001b[1;32m     11\u001b[0m \u001b[0;34m\u001b[0m\u001b[0m\n",
      "\u001b[0;32m~/opt/anaconda3/lib/python3.7/site-packages/matplotlib/__init__.py\u001b[0m in \u001b[0;36minner\u001b[0;34m(ax, data, *args, **kwargs)\u001b[0m\n\u001b[1;32m   1599\u001b[0m     \u001b[0;32mdef\u001b[0m \u001b[0minner\u001b[0m\u001b[0;34m(\u001b[0m\u001b[0max\u001b[0m\u001b[0;34m,\u001b[0m \u001b[0;34m*\u001b[0m\u001b[0margs\u001b[0m\u001b[0;34m,\u001b[0m \u001b[0mdata\u001b[0m\u001b[0;34m=\u001b[0m\u001b[0;32mNone\u001b[0m\u001b[0;34m,\u001b[0m \u001b[0;34m**\u001b[0m\u001b[0mkwargs\u001b[0m\u001b[0;34m)\u001b[0m\u001b[0;34m:\u001b[0m\u001b[0;34m\u001b[0m\u001b[0;34m\u001b[0m\u001b[0m\n\u001b[1;32m   1600\u001b[0m         \u001b[0;32mif\u001b[0m \u001b[0mdata\u001b[0m \u001b[0;32mis\u001b[0m \u001b[0;32mNone\u001b[0m\u001b[0;34m:\u001b[0m\u001b[0;34m\u001b[0m\u001b[0;34m\u001b[0m\u001b[0m\n\u001b[0;32m-> 1601\u001b[0;31m             \u001b[0;32mreturn\u001b[0m \u001b[0mfunc\u001b[0m\u001b[0;34m(\u001b[0m\u001b[0max\u001b[0m\u001b[0;34m,\u001b[0m \u001b[0;34m*\u001b[0m\u001b[0mmap\u001b[0m\u001b[0;34m(\u001b[0m\u001b[0msanitize_sequence\u001b[0m\u001b[0;34m,\u001b[0m \u001b[0margs\u001b[0m\u001b[0;34m)\u001b[0m\u001b[0;34m,\u001b[0m \u001b[0;34m**\u001b[0m\u001b[0mkwargs\u001b[0m\u001b[0;34m)\u001b[0m\u001b[0;34m\u001b[0m\u001b[0;34m\u001b[0m\u001b[0m\n\u001b[0m\u001b[1;32m   1602\u001b[0m \u001b[0;34m\u001b[0m\u001b[0m\n\u001b[1;32m   1603\u001b[0m         \u001b[0mbound\u001b[0m \u001b[0;34m=\u001b[0m \u001b[0mnew_sig\u001b[0m\u001b[0;34m.\u001b[0m\u001b[0mbind\u001b[0m\u001b[0;34m(\u001b[0m\u001b[0max\u001b[0m\u001b[0;34m,\u001b[0m \u001b[0;34m*\u001b[0m\u001b[0margs\u001b[0m\u001b[0;34m,\u001b[0m \u001b[0;34m**\u001b[0m\u001b[0mkwargs\u001b[0m\u001b[0;34m)\u001b[0m\u001b[0;34m\u001b[0m\u001b[0;34m\u001b[0m\u001b[0m\n",
      "\u001b[0;32m~/opt/anaconda3/lib/python3.7/site-packages/matplotlib/axes/_axes.py\u001b[0m in \u001b[0;36mbar\u001b[0;34m(self, x, height, width, bottom, align, **kwargs)\u001b[0m\n\u001b[1;32m   2373\u001b[0m         x, height, width, y, linewidth = np.broadcast_arrays(\n\u001b[1;32m   2374\u001b[0m             \u001b[0;31m# Make args iterable too.\u001b[0m\u001b[0;34m\u001b[0m\u001b[0;34m\u001b[0m\u001b[0;34m\u001b[0m\u001b[0m\n\u001b[0;32m-> 2375\u001b[0;31m             np.atleast_1d(x), height, width, y, linewidth)\n\u001b[0m\u001b[1;32m   2376\u001b[0m \u001b[0;34m\u001b[0m\u001b[0m\n\u001b[1;32m   2377\u001b[0m         \u001b[0;31m# Now that units have been converted, set the tick locations.\u001b[0m\u001b[0;34m\u001b[0m\u001b[0;34m\u001b[0m\u001b[0;34m\u001b[0m\u001b[0m\n",
      "\u001b[0;32m<__array_function__ internals>\u001b[0m in \u001b[0;36mbroadcast_arrays\u001b[0;34m(*args, **kwargs)\u001b[0m\n",
      "\u001b[0;32m~/opt/anaconda3/lib/python3.7/site-packages/numpy/lib/stride_tricks.py\u001b[0m in \u001b[0;36mbroadcast_arrays\u001b[0;34m(*args, **kwargs)\u001b[0m\n\u001b[1;32m    262\u001b[0m     \u001b[0margs\u001b[0m \u001b[0;34m=\u001b[0m \u001b[0;34m[\u001b[0m\u001b[0mnp\u001b[0m\u001b[0;34m.\u001b[0m\u001b[0marray\u001b[0m\u001b[0;34m(\u001b[0m\u001b[0m_m\u001b[0m\u001b[0;34m,\u001b[0m \u001b[0mcopy\u001b[0m\u001b[0;34m=\u001b[0m\u001b[0;32mFalse\u001b[0m\u001b[0;34m,\u001b[0m \u001b[0msubok\u001b[0m\u001b[0;34m=\u001b[0m\u001b[0msubok\u001b[0m\u001b[0;34m)\u001b[0m \u001b[0;32mfor\u001b[0m \u001b[0m_m\u001b[0m \u001b[0;32min\u001b[0m \u001b[0margs\u001b[0m\u001b[0;34m]\u001b[0m\u001b[0;34m\u001b[0m\u001b[0;34m\u001b[0m\u001b[0m\n\u001b[1;32m    263\u001b[0m \u001b[0;34m\u001b[0m\u001b[0m\n\u001b[0;32m--> 264\u001b[0;31m     \u001b[0mshape\u001b[0m \u001b[0;34m=\u001b[0m \u001b[0m_broadcast_shape\u001b[0m\u001b[0;34m(\u001b[0m\u001b[0;34m*\u001b[0m\u001b[0margs\u001b[0m\u001b[0;34m)\u001b[0m\u001b[0;34m\u001b[0m\u001b[0;34m\u001b[0m\u001b[0m\n\u001b[0m\u001b[1;32m    265\u001b[0m \u001b[0;34m\u001b[0m\u001b[0m\n\u001b[1;32m    266\u001b[0m     \u001b[0;32mif\u001b[0m \u001b[0mall\u001b[0m\u001b[0;34m(\u001b[0m\u001b[0marray\u001b[0m\u001b[0;34m.\u001b[0m\u001b[0mshape\u001b[0m \u001b[0;34m==\u001b[0m \u001b[0mshape\u001b[0m \u001b[0;32mfor\u001b[0m \u001b[0marray\u001b[0m \u001b[0;32min\u001b[0m \u001b[0margs\u001b[0m\u001b[0;34m)\u001b[0m\u001b[0;34m:\u001b[0m\u001b[0;34m\u001b[0m\u001b[0;34m\u001b[0m\u001b[0m\n",
      "\u001b[0;32m~/opt/anaconda3/lib/python3.7/site-packages/numpy/lib/stride_tricks.py\u001b[0m in \u001b[0;36m_broadcast_shape\u001b[0;34m(*args)\u001b[0m\n\u001b[1;32m    189\u001b[0m     \u001b[0;31m# use the old-iterator because np.nditer does not handle size 0 arrays\u001b[0m\u001b[0;34m\u001b[0m\u001b[0;34m\u001b[0m\u001b[0;34m\u001b[0m\u001b[0m\n\u001b[1;32m    190\u001b[0m     \u001b[0;31m# consistently\u001b[0m\u001b[0;34m\u001b[0m\u001b[0;34m\u001b[0m\u001b[0;34m\u001b[0m\u001b[0m\n\u001b[0;32m--> 191\u001b[0;31m     \u001b[0mb\u001b[0m \u001b[0;34m=\u001b[0m \u001b[0mnp\u001b[0m\u001b[0;34m.\u001b[0m\u001b[0mbroadcast\u001b[0m\u001b[0;34m(\u001b[0m\u001b[0;34m*\u001b[0m\u001b[0margs\u001b[0m\u001b[0;34m[\u001b[0m\u001b[0;34m:\u001b[0m\u001b[0;36m32\u001b[0m\u001b[0;34m]\u001b[0m\u001b[0;34m)\u001b[0m\u001b[0;34m\u001b[0m\u001b[0;34m\u001b[0m\u001b[0m\n\u001b[0m\u001b[1;32m    192\u001b[0m     \u001b[0;31m# unfortunately, it cannot handle 32 or more arguments directly\u001b[0m\u001b[0;34m\u001b[0m\u001b[0;34m\u001b[0m\u001b[0;34m\u001b[0m\u001b[0m\n\u001b[1;32m    193\u001b[0m     \u001b[0;32mfor\u001b[0m \u001b[0mpos\u001b[0m \u001b[0;32min\u001b[0m \u001b[0mrange\u001b[0m\u001b[0;34m(\u001b[0m\u001b[0;36m32\u001b[0m\u001b[0;34m,\u001b[0m \u001b[0mlen\u001b[0m\u001b[0;34m(\u001b[0m\u001b[0margs\u001b[0m\u001b[0;34m)\u001b[0m\u001b[0;34m,\u001b[0m \u001b[0;36m31\u001b[0m\u001b[0;34m)\u001b[0m\u001b[0;34m:\u001b[0m\u001b[0;34m\u001b[0m\u001b[0;34m\u001b[0m\u001b[0m\n",
      "\u001b[0;31mValueError\u001b[0m: shape mismatch: objects cannot be broadcast to a single shape"
     ]
    },
    {
     "data": {
      "image/png": "[encoded data removed]",
      "text/plain": [
       "<Figure size 432x288 with 1 Axes>"
      ]
     },
     "metadata": {
      "needs_background": "light"
     },
     "output_type": "display_data"
    }
   ],
   "source": [
    "means =stats.loc['Mean']\n",
    "stdev = stats.loc['StDev']\n",
    "med = stats.loc['Med']\n",
    "\n",
    "ind = np.arange(10)  # the x locations for the groups\n",
    "width = 0.35  # the width of the bars\n",
    "\n",
    "fig, ax = plt.subplots()\n",
    "rects1 = ax.bar(ind - width/2, means, width, yerr=stdev, label='Mean')\n",
    "rects2 = ax.bar(ind + width/2, med, width, yerr=stdev, label='Median')\n",
    "\n",
    "\n",
    "\n",
    "#ax.set_ylabel('Scores')\n",
    "#ax.set_title('Scores by group and gender')\n",
    "ax.set_xticks(ind)\n",
    "ax.set_xticklabels(['Adv', 'Action', 'Drama','Com', 'Thril', 'Horr', 'RCom','Mus', 'Other', 'Ttl', 'GDP', 'Inc'])\n",
    "ax.legend()\n",
    "\n",
    "\n",
    "\n",
    "fig.tight_layout()\n",
    "\n",
    "\n",
    "plt.show()"
   ]
  },
  {
   "cell_type": "markdown",
   "metadata": {},
   "source": [
    "# Tickets Sold Income\n",
    "\n",
    "How does the economy impact the popularity of movie generes?\n",
    "\n",
    "Visual display of Data\n",
    "The following plot shows the percent change in income in each year. This scatterplot allows us to see the trend of income over our time frame of interest (1995 to 2018)."
   ]
  },
  {
   "cell_type": "code",
   "execution_count": null,
   "metadata": {},
   "outputs": [],
   "source": [
    "income_raw = pd.DataFrame(data[\"% Income Annual Change, Chained Dollars\"])\n",
    "income= np.zeros(24)\n",
    "x = 0\n",
    "for value in income_raw.iterrows():\n",
    "    income[x] = income_raw.iloc(0)[x]\n",
    "    x+=1\n",
    "    \n",
    "print(\"Mean Percent Change in Income: \", income.mean())\n",
    "print(\"Standard Deviation of Percent Change in Income: \", income.std())\n",
    "\n",
    "plt.plot(range(1995,2019),income)\n",
    "plt.xlabel(\"Year\")\n",
    "plt.ylabel(\"Percent change in Income\")\n",
    "plt.title(\"Percent change in Income vs. Year\")\n",
    "plt.show()"
   ]
  },
  {
   "cell_type": "markdown",
   "metadata": {},
   "source": [
    "The following plot shows total movie ticket sales per year over our timeframe of interest (1995 to 2018)."
   ]
  },
  {
   "cell_type": "code",
   "execution_count": null,
   "metadata": {},
   "outputs": [],
   "source": [
    "tickets_raw = pd.DataFrame(data[\"Total Tickets\"])\n",
    "tickets = np.zeros(24)\n",
    "x = 0\n",
    "for value in tickets_raw.iterrows():\n",
    "    tickets[x] = tickets_raw.iloc(0)[x]\n",
    "    x+=1\n",
    "\n",
    "plt.plot(range(1995,2019),tickets)\n",
    "plt.xlabel(\"Year\")\n",
    "plt.ylabel(\"Movie Ticket Sales\")\n",
    "plt.title(\"Movie Ticket Sales vs. Year\")\n",
    "plt.show()"
   ]
  },
  {
   "cell_type": "markdown",
   "metadata": {},
   "source": [
    "Model of relationships"
   ]
  },
  {
   "cell_type": "code",
   "execution_count": null,
   "metadata": {},
   "outputs": [],
   "source": [
    "\n",
    "model = LinearRegression().fit(data[[\"% Income Annual Change, Chained Dollars\"]], data[[\"Total Tickets\"]])\n",
    "\n",
    "cor = model.coef_[0]\n",
    "intercept=model.intercept_"
   ]
  },
  {
   "cell_type": "code",
   "execution_count": null,
   "metadata": {},
   "outputs": [],
   "source": [
    "plt.scatter(data[[\"% Income Annual Change, Chained Dollars\"]], data[[\"Total Tickets\"]])\n",
    "plt.ylabel(\"Yearly Ticket Sales\")\n",
    "plt.xlabel(\"Yearly Percent change in Income\")\n",
    "plt.title(\"Yearly Percent change in Income vs. Movie Ticket Sales\")\n",
    "plt.show()"
   ]
  },
  {
   "cell_type": "markdown",
   "metadata": {},
   "source": [
    "Finding r^2"
   ]
  },
  {
   "cell_type": "code",
   "execution_count": null,
   "metadata": {},
   "outputs": [],
   "source": [
    "rsq = model.score(data[[\"Total Tickets\"]],data[\"% Income Annual Change, Chained Dollars\"])\n",
    "print(\"R^2 Value of Correlation: \", rsq)"
   ]
  },
  {
   "cell_type": "markdown",
   "metadata": {},
   "source": [
    "This R^2 value is very low, which indicates that changes in Income do not necessarily lead to direct changes in Movie Tickets sold.\n",
    "\n",
    "Evaluation of Significance"
   ]
  },
  {
   "cell_type": "code",
   "execution_count": null,
   "metadata": {},
   "outputs": [],
   "source": [
    "spearman = spearmanr(data[\"% Income Annual Change, Chained Dollars\"], data[[\"Total Tickets\"]]).correlation \n",
    "print(\"Spearman Correlation Value: \",spearman)"
   ]
  },
  {
   "cell_type": "markdown",
   "metadata": {},
   "source": [
    "# GDP and Market\n",
    "The plot below shows the GDP Growth Rate in the US from 1995 to 2018. It shows the general trend of the economy over that time period. If a value is negative, that means that the percent change in GDP from the previous year to that year was negative and the GDP did not grow, it declined."
   ]
  },
  {
   "cell_type": "code",
   "execution_count": null,
   "metadata": {},
   "outputs": [],
   "source": [
    "gdp = data[\"GDP % Growth\"]\n",
    "g= np.zeros(24)\n",
    "count = 0\n",
    "for x in gdp:\n",
    "    g[count] = x\n",
    "    count+=1\n",
    "\n",
    "plt.plot(range(1995,2019),g)\n",
    "plt.xlabel('Years')\n",
    "plt.ylabel('GDP % Growth')\n",
    "plt.show()"
   ]
  },
  {
   "cell_type": "markdown",
   "metadata": {},
   "source": [
    "Visual Representation of the relationship between % change in GDP and each movie genre using scatter plots\n",
    "Each of the following graph shows a scatter plot of GDP and each movie genre."
   ]
  },
  {
   "cell_type": "code",
   "execution_count": null,
   "metadata": {},
   "outputs": [],
   "source": [
    "adventure = data['Adventure Market Share']\n",
    "ad = np.zeros(24)\n",
    "count = 0\n",
    "for x in adventure:\n",
    "    ad[count] = x\n",
    "    count+=1\n",
    "plt.scatter(g, ad)\n",
    "plt.title('Adventure vs GDP')\n",
    "plt.ylabel('Adventure Market Share')\n",
    "plt.xlabel('GDP % Growth')\n",
    "plt.show()"
   ]
  },
  {
   "cell_type": "code",
   "execution_count": null,
   "metadata": {},
   "outputs": [],
   "source": [
    "action = data['Action Market Share']\n",
    "ac = np.zeros(24)\n",
    "count = 0\n",
    "for x in action:\n",
    "    ac[count] = x\n",
    "    count+=1\n",
    "plt.scatter(g,ac)\n",
    "plt.title('Action vs GDP')\n",
    "plt.ylabel('ActionMarket Share')\n",
    "plt.xlabel('GDP % Growth')\n",
    "plt.show()"
   ]
  },
  {
   "cell_type": "code",
   "execution_count": null,
   "metadata": {},
   "outputs": [],
   "source": [
    "drama = data['Drama Market Share']\n",
    "d = np.zeros(24)\n",
    "count = 0\n",
    "for x in drama:\n",
    "    d[count] = x\n",
    "    count+=1\n",
    "plt.scatter(g,d)\n",
    "plt.title('Drama vs GDP')\n",
    "plt.ylabel('Drama Market Share')\n",
    "plt.xlabel('GDP % Growth')\n",
    "plt.show()"
   ]
  },
  {
   "cell_type": "code",
   "execution_count": null,
   "metadata": {},
   "outputs": [],
   "source": [
    "comedy = data['Comedy Market Share']\n",
    "c = np.zeros(24)\n",
    "count = 0\n",
    "for x in comedy:\n",
    "    c[count] = x\n",
    "    count+=1\n",
    "plt.scatter(g, c)\n",
    "plt.title('Comedy vs GDP')\n",
    "plt.ylabel('Comdey Market Share')\n",
    "plt.xlabel('GDP % Growth')\n",
    "plt.show()"
   ]
  },
  {
   "cell_type": "code",
   "execution_count": null,
   "metadata": {},
   "outputs": [],
   "source": [
    "thriller = data['Thriller-or-Suspense Market Share']\n",
    "t = np.zeros(24)\n",
    "count = 0\n",
    "for x in thriller:\n",
    "    t[count] = x\n",
    "    count+=1\n",
    "plt.scatter(g,t)\n",
    "plt.title('Thriller/Suspense vs GDP')\n",
    "plt.ylabel('Thriller/Suspense Market Share')\n",
    "plt.xlabel('GDP % Growth')\n",
    "plt.show()"
   ]
  },
  {
   "cell_type": "code",
   "execution_count": null,
   "metadata": {},
   "outputs": [],
   "source": [
    "rom_com = data['Romantic-Comedy Market Share']\n",
    "rc = np.zeros(24)\n",
    "count = 0\n",
    "for x in rom_com:\n",
    "    rc[count] = x\n",
    "    count+=1\n",
    "plt.scatter(g, rc)\n",
    "plt.title('Romantic Comedy vs GDP')\n",
    "plt.ylabel('Romatic-Comedy Market Share')\n",
    "plt.xlabel('GDP % Growth')\n",
    "plt.show()"
   ]
  },
  {
   "cell_type": "code",
   "execution_count": null,
   "metadata": {},
   "outputs": [],
   "source": [
    "musical = data['Musical Market Share']\n",
    "mu = np.zeros(24)\n",
    "count = 0\n",
    "for x in musical:\n",
    "    mu[count] = x\n",
    "    count+=1\n",
    "plt.scatter(g, mu)\n",
    "plt.title('Musical vs GDP')\n",
    "plt.ylabel('Musical Market Share')\n",
    "plt.xlabel('GDP % Growth')\n",
    "plt.show()"
   ]
  },
  {
   "cell_type": "code",
   "execution_count": null,
   "metadata": {},
   "outputs": [],
   "source": [
    "other = data['Other Genres Market Share']\n",
    "o = np.zeros(24)\n",
    "count = 0\n",
    "for x in other:\n",
    "    o[count] = x\n",
    "    count+=1\n",
    "plt.scatter(g, o)\n",
    "plt.title('Other Generes vs GDP')\n",
    "plt.ylabel('Other Generes Market Share')\n",
    "plt.xlabel('GDP % Growth')\n",
    "plt.show()"
   ]
  },
  {
   "cell_type": "markdown",
   "metadata": {},
   "source": [
    "Analysis of Plots\n",
    "As you can see, all of the scatter plots show a few trends but are mainly hard to decipher because of inconsitent results. One point that is consistent is the one point in which GDP is below -2%. This outlier, although a much lower value when compared to the other gdps, may be a good way to visualize which generes do the best when the economy is doing the worst. With Romantic Comedy and Drama, one can see from the plots that there is somewhat a positive correlation between Market Share and GDP while with Adventure and Action, there seems to a negative correlation.\n",
    "\n",
    "Measuring the realationship between genre's Market Share with GDP by using linear regression coefficients\n",
    "By running a singular regression of each genre's market share on GDP, we can determine the regression coefficient. This coefficient will predict the slope of the line of best fit when using GDP as the X axis and market share as Y axis. Basically each coefficient will predict the following: an increase of one percentage of GDP will lead a \"coefficient value\" increse in that genre's market share."
   ]
  },
  {
   "cell_type": "code",
   "execution_count": null,
   "metadata": {},
   "outputs": [],
   "source": [
    "ad_model = LinearRegression().fit(data[['GDP % Growth']] ,data['Adventure Market Share'] )\n",
    "ad_cor = ad_model.coef_[0]\n",
    "print(\"A one percentage point increase in GDP leads to a {:.4f}\".format(ad_cor), \"change in Adventure Market Share\")\n",
    "\n",
    "ac_model = LinearRegression().fit(data[['GDP % Growth']],data['Action Market Share'], )\n",
    "ac_coef= ac_model.coef_[0]\n",
    "print(\"A one percentage point increase in GDP leads to a {:.4f}\".format(ac_coef), \"change in Action Market Share \")\n",
    "\n",
    "d_model = LinearRegression().fit(data[['GDP % Growth']],data['Drama Market Share'] )\n",
    "d_coef= d_model.coef_[0]\n",
    "print(\"A one percentage point increase in GDP leads to a {:.4f}\".format(d_coef), \"change in Drama Market Share \")\n",
    "\n",
    "c_model= LinearRegression().fit(data[['GDP % Growth']],data['Comedy Market Share'] )\n",
    "c_coef= c_model.coef_[0]\n",
    "print(\"A one percentage point increase in GDP leads to a {:.4f}\".format(c_coef), \"change in Comedy Market Share\")\n",
    "\n",
    "tr_model = LinearRegression().fit(data[['GDP % Growth']],data['Thriller-or-Suspense Market Share'] )\n",
    "tr_coef= tr_model.coef_[0]\n",
    "print(\"A one percentage point increase in GDP leads to a {:.4f}\".format(tr_coef), \"change in  Thriller/Suspense Market Share\")\n",
    "\n",
    "rc_model = LinearRegression().fit( data[['GDP % Growth']], data['Romantic-Comedy Market Share'])\n",
    "rc_coef= rc_model.coef_[0]\n",
    "print(\"A one percentage point increase in GDP leads to a {:.4f}\".format(rc_coef), \"change in Romantic-Comedy Market Share\")\n",
    "\n",
    "mu_model = LinearRegression().fit(data[['GDP % Growth']], data['Musical Market Share'] )\n",
    "mu_coef= mu_model.coef_[0]\n",
    "print(\"A one percentage point increase in GDP leads to a {:.4f}\".format(mu_coef), \"change in Musical Market Share\")\n",
    "\n",
    "o_model = LinearRegression().fit(data[['GDP % Growth']], data['Other Genres Market Share'])\n",
    "o_coef= o_model.coef_[0]\n",
    "print(\"A one percentage point increase in GDP leads to a {:.4f}\".format(o_coef), \"change in Other Genres Market Share\")"
   ]
  },
  {
   "cell_type": "markdown",
   "metadata": {},
   "source": [
    "Analysis of coefficients\n",
    "From the above values, a singular regression predicts that Adventure and Action have a negative slope/correlation to GDP and that Drama and Romantic-Comedy are predicted to have a positive slope/correlation to GDP. This is similar to what was predicted using the visuals of the scatter plots. However, the regressions also predicts that Comedy is postively correlated to GDP and that Thriller/Suspense, Musical, and other Genres are negatively correlated to GDP. These are values that are not so obvious when looking at the visuals.\n",
    "\n",
    "Measuring the relationship between Genre's Market Share with GDP using linear and possible non linear correlation values\n",
    "Regression is not the only way and may not be the best way to show the possible correlation between two variables. Correlation Coefficient is a value that normalizes the covariance of two variables and shows the linear correlation they have (values between [-1,1]. A pearson correlation will use the ranks of values and measure the possible non-linear correlation between the two of them. IF there is a linear correlation, the two values should be similar and if there is more of a non linear correlation, the absolute value of the pearson correlation will be larger."
   ]
  },
  {
   "cell_type": "code",
   "execution_count": null,
   "metadata": {},
   "outputs": [],
   "source": [
    "ad_cor = np.corrcoef( data['GDP % Growth'],data['Adventure Market Share'])[0][1]\n",
    "ad_sp = spearmanr(data['GDP % Growth'],data['Adventure Market Share'])\n",
    "print(\"Correlation Coefficient between Adventure and GDP: {:.4f}\".format(ad_cor))\n",
    "print('Spearman r of Adventure and GDP: {:.4f}'.format(ad_sp.correlation))\n",
    "\n",
    "ac_cor = np.corrcoef(data['GDP % Growth'],data['Action Market Share'])[0][1]\n",
    "ac_sp = spearmanr(data['GDP % Growth'],data['Action Market Share'])\n",
    "print(\"Correlation Coefficient between Action and GDP: {:.4f}\".format(ac_cor))\n",
    "print('Spearman r of Action and GDP: {:.4f}'.format(ac_sp.correlation))\n",
    "\n",
    "d_cor = np.corrcoef(data['GDP % Growth'],data['Drama Market Share'])[0][1]\n",
    "d_sp = spearmanr(data['GDP % Growth'],data['Drama Market Share'])\n",
    "print(\"Correlation Coefficient between Drama and GDP: {:.4f}\".format(d_cor))\n",
    "print('Spearman r of Drama and GDP: {:.4f}'.format(d_sp.correlation))\n",
    "\n",
    "c_cor = np.corrcoef(data['GDP % Growth'],data['Comedy Market Share'])[0][1]\n",
    "c_sp = spearmanr(data['GDP % Growth'],data['Comedy Market Share'])\n",
    "print(\"Correlation Coefficient between Comedy and GDP: {:.4f}\".format(c_cor))\n",
    "print('Spearman r of Comedy and GDP: {:.4f}'.format(c_sp.correlation))\n",
    "\n",
    "tr_cor = np.corrcoef(data['GDP % Growth'],data['Thriller-or-Suspense Market Share'])[0][1]\n",
    "tr_sp = spearmanr(data['GDP % Growth'],data['Thriller-or-Suspense Market Share'])\n",
    "print(\"Correlation Coefficient between Thriller and GDP: {:.4f}\".format(tr_cor))\n",
    "print('Spearman r of Thriller and GDP: {:.4f}'.format(tr_sp.correlation))\n",
    "\n",
    "rc_cor = np.corrcoef(data['GDP % Growth'], data['Romantic-Comedy Market Share'])[0][1]\n",
    "rc_sp = spearmanr(data['GDP % Growth'],data['Romantic-Comedy Market Share'])\n",
    "print(\"Correlation Coefficient between Romantic-Comedy and GDP: {:.4f}\".format(rc_cor))\n",
    "print('Spearman r of Romantic-Comedy and GDP: {:.4f}'.format(rc_sp.correlation))\n",
    "\n",
    "mu_cor = np.corrcoef(data['GDP % Growth'],data['Musical Market Share'])[0][1]\n",
    "mu_sp = spearmanr(data['GDP % Growth'],data['Musical Market Share'])\n",
    "print(\"Correlation Coefficient between Musical and GDP: {:.4f}\".format(mu_cor))\n",
    "print('Spearman r of Musical and GDP: {:.4f}'.format(mu_sp.correlation))\n",
    "\n",
    "o_cor = np.corrcoef(data['GDP % Growth'],data['Other Genres Market Share'])[0][1]\n",
    "o_sp = spearmanr(data['GDP % Growth'],data['Other Genres Market Share'])\n",
    "print(\"Correlation Coefficient between Other Genres and GDP: {:.4f}\".format(o_cor))\n",
    "print('Spearman r of Other Genresand GDP: {:.4f}'.format(o_sp.correlation))"
   ]
  },
  {
   "cell_type": "markdown",
   "metadata": {},
   "source": [
    "Analysis\n",
    "From the correlation Coefficient and Spearman Correlation data, most of the genres have a more non-linear than linear realtionship with GDP. However, only two genres, Adventure and Drama, have an absolute value of spearman correlation higher than 0.5. This means that for a majority of the genres, although there there is more of a non-linear relationship than linear, there is little correlation between the two variables. This means that an increase or decrease in the market share of those genres does not lead to an increase or decrease in GDP. The change in GDP is more than likely randomly correlated to those genres and their relationship is mostly random. However, for Adventure and Drama there is more of an correlation which is non linear for both genres. The Spearman value is closer to an absolute value of 1 for both genres than their correlation coefficient values. This shows that there is a more non linear realtionship between the genres' market share and the GDP. As market share for Adventure increases, there is usually some sort of non linear decrease in GDP. As market share for Drama increases, there is usally some sort of non linear increase in GDP. This all boils down to this: Based off the correlations between Adventure and Drama with GDP, when the economy is doing well, Drama movies are made more and do better than usual. When the economy is doing poorly, Adventure movies are made more and do better than usual.\n",
    "\n",
    "Testing the significance of the correlations and regression models\n",
    "Using random permutations of each genere's market share, we can test to see if the correlations and coefficients genereated by regression models and spearman calculation actually show that, with a large number of samples, the certain genres and GDP are correlated. This will mainly be a test for the genres of Adventrue and Drama as they had much higher correlation values than all other genres. There seems to be little correlation for the other 6 genres so we will not test them. Also, we will use n = 1000 to ensure that there are enough random samples."
   ]
  },
  {
   "cell_type": "code",
   "execution_count": null,
   "metadata": {},
   "outputs": [],
   "source": [
    "def permutated_y(x):\n",
    "    return np.random.permutation(x.copy())"
   ]
  },
  {
   "cell_type": "code",
   "execution_count": null,
   "metadata": {},
   "outputs": [],
   "source": [
    "slope_ad = np.zeros(1000)\n",
    "count = 0 \n",
    "for x in slope_ad:\n",
    "    p = permutated_y(data['Adventure Market Share'])\n",
    "    c = LinearRegression().fit(data[['GDP % Growth']], p)\n",
    "    num = c.coef_[0]\n",
    "    slope_ad[count] = num\n",
    "    count = count + 1\n",
    "    \n",
    "plt.hist(slope_ad, bins = 30)\n",
    "plt.title(\"Adventure Market Share\")\n",
    "plt.xlabel(\"Slope of the Regression\")\n",
    "plt.ylabel(\"Frequency\")\n",
    "plt.show()\n",
    "mean_ad = np.mean(slope_ad)\n",
    "var_ad = np.var(slope_ad)\n",
    "print(\"The mean of the permutated regressions is {:.6f}\".format(mean_ad))\n",
    "print(\"The variance of the permutated regressions is {:6f}\".format(var_ad))"
   ]
  },
  {
   "cell_type": "code",
   "execution_count": null,
   "metadata": {},
   "outputs": [],
   "source": [
    "slope_d = np.zeros(1000)\n",
    "count = 0 \n",
    "for x in slope_d:\n",
    "    p = permutated_y(data['Drama Market Share'])\n",
    "    c = LinearRegression().fit(data[['GDP % Growth']], p)\n",
    "    num = c.coef_[0]\n",
    "    slope_d[count] = num\n",
    "    count = count + 1\n",
    "    \n",
    "plt.hist(slope_d, bins = 30)\n",
    "plt.title(\"Drama Market Share\")\n",
    "plt.xlabel(\"Slope of the Regression\")\n",
    "plt.ylabel(\"Frequency\")\n",
    "plt.show()\n",
    "mean_d = np.mean(slope_d)\n",
    "var_d = np.var(slope_d)\n",
    "print(\"The mean of the permutated regressions is {:.6f}\".format(mean_d))\n",
    "print(\"The variance of the permutated regressions is {:.6f}\".format(var_d))"
   ]
  },
  {
   "cell_type": "markdown",
   "metadata": {},
   "source": [
    "# Income and Market\n",
    "\n",
    "In this portion of the analysis, we will be taking a look at whether income impacts the market share a genre captures. We will specifically be looking at the change in annual perecent change in income to elminate any noise associated with a general increase in percentage income. The reason we look at the change in % change is to eliminate the discrepancies associated with general trends in changing income levels.\n",
    "\n",
    "Line of Best Fit and Scatter Plot\n",
    "We can first begin by visually attempting to identify any relationship between the two variables. To do so, we can create a scatterplot and a line of best fit."
   ]
  },
  {
   "cell_type": "code",
   "execution_count": null,
   "metadata": {},
   "outputs": [],
   "source": [
    "xaxs = 0\n",
    "yaxs = 0\n",
    "\n",
    "fig, axs = plt.subplots(3, 3, figsize=(17, 17))\n",
    "fig.suptitle('Genre Market Share Based on ' + income, fontsize=20)\n",
    "\n",
    "for c in col:\n",
    "    #CREATING THE LINE OF BEST FIT\n",
    "    model = LinearRegression().fit(data[[income]], data[c])\n",
    "    score= model.coef_[0]\n",
    "    intercept=model.intercept_\n",
    "    x = np.linspace(-5,7,100)\n",
    "    y = score*x+intercept\n",
    "    axs[xaxs, yaxs].plot(x, y)\n",
    "    \n",
    "    \n",
    "\n",
    "    #CREATING THE SCATTERPLOT\n",
    "    axs[xaxs, yaxs].scatter(data[income], data[c], color = 'deepskyblue')\n",
    "    axs[xaxs, yaxs].set_title(c)\n",
    "    #axs[xaxs, yaxs].set_xlabel(income)\n",
    "    #axs[xaxs, yaxs].set_ylabel(c)\n",
    "    xaxs +=1\n",
    "    if xaxs == 3:\n",
    "        xaxs = 0\n",
    "        yaxs +=1\n",
    "\n",
    "plt.show()\n"
   ]
  },
  {
   "cell_type": "markdown",
   "metadata": {},
   "source": [
    "From the graphs above, we can see that many of the genres do not have a relationship with income. When we look at the graph for Action, for example, the line of best fit remains relatively the same, while the action market share is scattered along the y-axis. Therefore, there is clearly not a relationship between them. However, certain graphs demonstrate a potential trend between the genre and market share. To better verify strengths of the relationships, we can look at both residual values and the coefficient of determination.\n",
    "\n",
    "Residuals StDev\n",
    "Observation: The standard deviation of the residuals calculated below show a variation ranging from 1.315 to 1.519. This means that the distribution is not that far from the line of best fit."
   ]
  },
  {
   "cell_type": "code",
   "execution_count": null,
   "metadata": {},
   "outputs": [],
   "source": [
    "for c in col:\n",
    "    x=data[income]\n",
    "    mean_x=x.mean()\n",
    "    y=data[c]\n",
    "    mean_y=y.mean()\n",
    "    n=len(data[income])\n",
    "    slope = np.sum((x - mean_x) * (y - mean_y)) / np.sum((y - mean_y)**2)\n",
    "    intercept = mean_x - slope * mean_y\n",
    "    predicted_x = y * slope + intercept\n",
    "    residuals = x - predicted_x\n",
    "    residual_std = np.sqrt(np.sum((residuals - residuals.mean())**2) / n)\n",
    "    print(c)\n",
    "    print('{:.3f}'.format(residual_std))"
   ]
  },
  {
   "cell_type": "markdown",
   "metadata": {},
   "source": [
    "Finding r\n",
    "First, we calculated the r-value of the relationships. From a quick glance, we can see that most relationships have an absolute value of below 0.1."
   ]
  },
  {
   "cell_type": "code",
   "execution_count": null,
   "metadata": {},
   "outputs": [],
   "source": [
    "rvalues=[]\n",
    "for c in col:\n",
    "    r= np.corrcoef(data[income], data[c])[0][1]\n",
    "    rvalues.append(r)\n",
    "    print(c, ':', '{:.3f}'.format(r))"
   ]
  },
  {
   "cell_type": "markdown",
   "metadata": {},
   "source": [
    "We then filtered out the data for any relationships with an absolute value greater than 0.3. From there, we can conclude that only Adventure and Drama show a relationship with income."
   ]
  },
  {
   "cell_type": "code",
   "execution_count": null,
   "metadata": {},
   "outputs": [],
   "source": [
    "relationship=[]\n",
    "for i in range(len(col)):\n",
    "    if abs(rvalues[i])>0.3:\n",
    "        relationship.append(col[i])\n",
    "        print(col[i], rvalues[i])"
   ]
  },
  {
   "cell_type": "markdown",
   "metadata": {},
   "source": [
    "Testing Randomness\n",
    "We have identified that Adventure and Drama show a relationship with income, but now we need to identify whether this relationshp is due to chance. To do so, we permuted the genre data to see whether a slope like the one above could have been due to chance, and found that it could, in fact, be due to chance."
   ]
  },
  {
   "cell_type": "code",
   "execution_count": null,
   "metadata": {},
   "outputs": [],
   "source": [
    "# permutation of data for a given genre c\n",
    "def permuted_y(c):\n",
    "    return np.random.permutation(data[c].copy())\n",
    "\n",
    "def findtheslope(x,c):\n",
    "    #creates a dataframe with a permutated y and returns the slope \n",
    "    #purpose: ensure that ny, ndf, and nmodel are local variable that can be rewritten with each function call\n",
    "    ny=permuted_y(c)\n",
    "    ndf=pd.DataFrame({'ny':ny})\n",
    "    nmodel=LinearRegression().fit(x,ndf[['ny']])\n",
    "    return nmodel.coef_[0][0]"
   ]
  },
  {
   "cell_type": "code",
   "execution_count": null,
   "metadata": {},
   "outputs": [],
   "source": [
    "xaxs = 0\n",
    "yaxs = 0\n",
    "trials=1000\n",
    "\n",
    "\n",
    "for c in relationship:  \n",
    "    newarray = np.zeros(trials)\n",
    "    for i in range(len(newarray)):\n",
    "        newarray[i]=findtheslope(data[[c]],c)\n",
    "    \n",
    "    #Trying to find the value of the slope\n",
    "    model = LinearRegression().fit(data[[income]], data[c])\n",
    "    score= model.coef_[0]\n",
    "    y = list(range(0, 250))\n",
    "    x = np.full((1,250),score)[0]\n",
    "    plt.plot(x, y, 'r')\n",
    "    \n",
    "    y = list(range(0, 250))\n",
    "    x = np.full((1,250),(-1*score))[0]\n",
    "    plt.plot(x, y, 'r')\n",
    "    \n",
    "    plt.hist(newarray, color = 'deepskyblue')\n",
    "    plt.title(c)\n",
    "    plt.xlabel('Slope of the Regression')\n",
    "    plt.ylabel('Frequency')\n",
    "    plt.show()"
   ]
  },
  {
   "cell_type": "markdown",
   "metadata": {},
   "source": [
    "Spearman Correlation and P-Value\n",
    "Although a linear relationship slope could be due to chance, we could also look at a Spearman correlation and identify the strength of the correlation and the associated p-value."
   ]
  },
  {
   "cell_type": "code",
   "execution_count": null,
   "metadata": {},
   "outputs": [],
   "source": [
    "rv=[]\n",
    "thepvalue =[]\n",
    "for c in col:    \n",
    "    nr = spearmanr(data[income],data[c])\n",
    "    cor= nr.correlation\n",
    "    pv=nr.pvalue\n",
    "    rv.append(cor)\n",
    "    thepvalue.append(pv)\n",
    "    print(c)\n",
    "    print('r:', '{:.3f}'.format(cor), 'p:', '{:.3f}'.format(pv))"
   ]
  },
  {
   "cell_type": "markdown",
   "metadata": {},
   "source": [
    "We filtered the data based on a Spearman correlation greater than 0.3 and found that both the adventure and drama market do so. We then looked at the p-value to determine the validity of this relationship. Both adventure and drama have a p-value of less than 5%, so we can reject the null hypothesis that this correlation is due to chance."
   ]
  },
  {
   "cell_type": "code",
   "execution_count": null,
   "metadata": {},
   "outputs": [],
   "source": [
    "for i in range(len(col)):\n",
    "    if abs(rv[i])>.3:\n",
    "        print(col[i])\n",
    "        print('r:','{:.3f}'.format(rv[i]),'p:','{:.3f}'.format(thepvalue[i]))"
   ]
  },
  {
   "cell_type": "markdown",
   "metadata": {},
   "source": [
    "Conclusion\n",
    "From the analysis above, we have found that a linear relationship is weak and possibly due to chance for all genres. However, a moderate, non-linear correlation does exist for two genres: Adventure and Drama. Based on the p-values, it is likely that such a correlation is not due to chance. Therefore, we could obser"
   ]
  }
 ],
 "metadata": {
  "kernelspec": {
   "display_name": "Python 3",
   "language": "python",
   "name": "python3"
  },
  "language_info": {
   "codemirror_mode": {
    "name": "ipython",
    "version": 3
   },
   "file_extension": ".py",
   "mimetype": "text/x-python",
   "name": "python",
   "nbconvert_exporter": "python",
   "pygments_lexer": "ipython3",
   "version": "3.7.4"
  }
 },
 "nbformat": 4,
 "nbformat_minor": 2
}
