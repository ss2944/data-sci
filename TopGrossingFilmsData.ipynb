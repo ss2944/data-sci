{
 "cells": [
  {
   "cell_type": "code",
   "execution_count": 10,
   "metadata": {},
   "outputs": [],
   "source": [
    "import sys\n",
    "import requests\n",
    "from bs4 import BeautifulSoup\n",
    "import pandas as pd\n",
    "import numpy as np\n",
    "import matplotlib.pyplot as plt"
   ]
  },
  {
   "cell_type": "code",
   "execution_count": 11,
   "metadata": {},
   "outputs": [],
   "source": [
    "url = 'https://www.the-numbers.com/market/'\n",
    "\n",
    "html = requests.get(url).content\n",
    "soup = BeautifulSoup(html,'lxml')"
   ]
  },
  {
   "cell_type": "code",
   "execution_count": 12,
   "metadata": {},
   "outputs": [],
   "source": [
    "text =soup.find_all('table')[2].get_text()"
   ]
  },
  {
   "cell_type": "code",
   "execution_count": 13,
   "metadata": {},
   "outputs": [],
   "source": [
    "newtxt = text.split('\\n')"
   ]
  },
  {
   "cell_type": "code",
   "execution_count": 14,
   "metadata": {},
   "outputs": [],
   "source": [
    "repeat=newtxt.count('')\n",
    "\n",
    "for item in range(repeat):\n",
    "    newtxt.remove('')\n",
    "    \n",
    "newtxt=newtxt[1:]"
   ]
  },
  {
   "cell_type": "code",
   "execution_count": 15,
   "metadata": {},
   "outputs": [],
   "source": [
    "#9 values per row\n",
    "Year=[]\n",
    "Movie=[]\n",
    "Genre1=[]\n",
    "Genre2=[]\n",
    "Genre3=[]\n",
    "Genre4=[]\n",
    "TicketsSold=[]"
   ]
  },
  {
   "cell_type": "code",
   "execution_count": 16,
   "metadata": {},
   "outputs": [],
   "source": [
    "for index in range(len(newtxt)):\n",
    "    item = newtxt[index]\n",
    "    if len(item)==4:\n",
    "        Year.append(item)\n",
    "    if len(newtxt[index-1])==4:\n",
    "        Movie.append(item)\n",
    "    if len(newtxt[index-2])==4:\n",
    "        Genre1.append(item)\n",
    "    if len(newtxt[index-3])==4:\n",
    "        Genre2.append(item)\n",
    "    if len(newtxt[index-4])==4:\n",
    "        Genre3.append(item)\n",
    "    if len(newtxt[index-5])==4:\n",
    "        Genre4.append(item)\n",
    "    if len(newtxt[index-10])==4:\n",
    "        TicketsSold.append(int(item.replace(',','')))"
   ]
  },
  {
   "cell_type": "code",
   "execution_count": 17,
   "metadata": {},
   "outputs": [],
   "source": [
    "TopMovies = pd.DataFrame({'Year': Year[:], 'Movie': Movie[:], 'Genre1': Genre1[:],'Genre2': Genre2[:], 'Genre3': Genre3[:], 'Genre4': Genre4[:]})"
   ]
  },
  {
   "cell_type": "code",
   "execution_count": 22,
   "metadata": {},
   "outputs": [
    {
     "data": {
      "image/png": "[encoded data removed]",
      "text/plain": [
       "<Figure size 432x288 with 1 Axes>"
      ]
     },
     "metadata": {},
     "output_type": "display_data"
    }
   ],
   "source": [
    "plt.hist(TopMovies['Genre4'])\n",
    "plt.show()"
   ]
  },
  {
   "cell_type": "code",
   "execution_count": null,
   "metadata": {},
   "outputs": [],
   "source": []
  }
 ],
 "metadata": {
  "kernelspec": {
   "display_name": "Python 3",
   "language": "python",
   "name": "python3"
  },
  "language_info": {
   "codemirror_mode": {
    "name": "ipython",
    "version": 3
   },
   "file_extension": ".py",
   "mimetype": "text/x-python",
   "name": "python",
   "nbconvert_exporter": "python",
   "pygments_lexer": "ipython3",
   "version": "3.6.8"
  }
 },
 "nbformat": 4,
 "nbformat_minor": 2
}
