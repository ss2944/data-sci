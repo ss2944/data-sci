{
 "cells": [
  {
   "cell_type": "markdown",
   "metadata": {},
   "source": [
    "Names and NetIDs: Saumya Sharma (ss2944), Naina Pai (np288), Alexandra Barry (anb67), Thomas Neumeyer (tjn46)"
   ]
  },
  {
   "cell_type": "markdown",
   "metadata": {},
   "source": [
    "# Introduction\n",
    "\n",
    "### Abstract\n",
    "\n",
    "In the following report, we will attempted to identify whether a relationship exists between the U.S. economic environment and the performance of the North American movie industry. Specifically, we will looked at the following questions:\n",
    "* How does the economy affect the overall number of tickets sold?\n",
    "* How does the economy affect the performance of different genres?\n",
    "Through a wide array of analysis, we have determined that the relationship between the economy and overall number of tickets sold is extremely strong. However, when take a closer look at the relationship between economic performance and genre market share, we found that most genres maintain a small but consistent market share, but the adventure and drama genre are strongly affected. The relationship is as follows...one rises, one falls, linear relatinship, etc. \n",
    "\n",
    "### Background\n",
    "\n",
    "(literally none of this is right, need to do research ^.^) In recent years, the movie industry is becoming more globalized and finding the need to balance the sanctity of box-office premieres with the streaming demands. Ticket sales are dropping and movie theaters are becoming experiential instead of the primary medium for movie-goers. Moreover, market volatility is increasing, with three economic downturns in the past fifty years with only a few in the past hundered. By identifying how economic trends impact movie ticket sales and how economic performance affects movie genre preferences, the box-office movie industry can get a better pulse on consumer economic response. Specifically, companies can figure out whether they should releasing more box-office movies, and whether they should target a specific genre.\n",
    "\n",
    "\n",
    "### Composition\n",
    "\n",
    "**Dataset Overview**\n",
    "\n",
    "To do so, we have compiled a dataset that contains the following information:\n",
    "* Attributes: Total box office tickets sold in North America, market share based on genre in North America, annual % change in U.S. GDP, and change in annual % change of national U.S. income in chained dollars\n",
    "* Observations: The data spans the years 1995-2018\n",
    "\n",
    "We specifically measure genres based on market share to remove any variation atrributable to change in movie tickets sold. Additionally we use GDP and income because GDP enables us to measure the health of the United States while income measures the economic health of individual consumers. We use chained dollars for income to account for inflation. \n",
    "\n",
    "This data is not designed to represent a larger population or to be extrapolated geographically. We are specifically looking at how the preformance of the U.S. market impacts the performance of the North American box-office movie industry.\n",
    "\n",
    "**Dataset Sources**\n",
    "\n",
    "This dataset has two key components: movie information and economic information. \n",
    "\n",
    "Movie information was scraped from the Numbers, a data analytics organization with the following mission: 'The Numbers was officially launched on October 17th, 1997 as a free resource for industry professionals, the investment community, and movie fans to track business information on movies.' The data collection was funded by Nash Information Services, a movide industry consulting service.\n",
    "\n",
    "Economic data from the U.S. Bureau of Economic Analysis (BEA) in the form of a csv. The government keeps track major economic indicators to aid them in making economic decisions. This data was funded by the U.S. government.\n",
    "\n",
    "People were not involved in any of the data collection.\n",
    "\n",
    "**Data Preparation and Preprocessing**\n",
    "\n",
    "Ticket sales was recorded by ticket sales. Market share by genre was found by first sorting movies based on eleven key genres. From there, the number of tickets sold for movies under a specific genre during a specific year were summed and divided by the total number of tickets sold. Government data is collected and analyzed the the BEA. \n",
    "\n",
    "Additionally, in our creation of the data, we did some processing. First, we selected the data range 1995-2018 because the Numbers data began at 1995 and we wanted to ensure that the annual data was in its entirety and felt that 2019 data might not be as accurate. A\n",
    "\n",
    "We also created an \"Other\" genre category, for genres such as Westerns, which have a market share of less than 1%. We decided to do this because if a genre captures less than one percent in the market, then any changes in them could be due to noise. For example, maybe a specific movie becomes really famous and draws attention to the genre. This does not mean that economic changes impacted consumer preferences. Moreover, since the market share is so low, any variation is magnified in proprtion to the data. \n",
    "\n",
    "**Potential Influences on the Data**\n",
    "\n",
    "Two key sources could impact the data. First, illegal movie streaming or \"pirating\" movies is a major concern in the box-office industry. Therefore, number of tickets purchased does not necessarily represent number of views. Secondly, movies are sorted based on genre, but a movie could fall under two different catergories, especially a popular one. This may cause a skew in favor of one genre over the other. "
   ]
  },
  {
   "cell_type": "markdown",
   "metadata": {},
   "source": [
    "# Data Analytics"
   ]
  },
  {
   "cell_type": "markdown",
   "metadata": {},
   "source": [
    "## Data Summary"
   ]
  },
  {
   "cell_type": "code",
   "execution_count": 30,
   "metadata": {},
   "outputs": [],
   "source": [
    "import sys\n",
    "import requests\n",
    "from bs4 import BeautifulSoup\n",
    "import pandas as pd\n",
    "import numpy as np\n",
    "import matplotlib.pyplot as plt\n",
    "import numpy as np\n",
    "from sklearn.linear_model import LinearRegression\n",
    "from sklearn.metrics import r2_score\n",
    "from scipy.special import comb\n",
    "from scipy.stats import spearmanr"
   ]
  },
  {
   "cell_type": "code",
   "execution_count": 31,
   "metadata": {},
   "outputs": [],
   "source": [
    "data=pd.read_csv('data.csv', index_col=0)"
   ]
  },
  {
   "cell_type": "code",
   "execution_count": 32,
   "metadata": {},
   "outputs": [
    {
     "data": {
      "text/plain": [
       "Index(['Adventure Market Share', 'Action Market Share', 'Drama Market Share',\n",
       "       'Comedy Market Share', 'Thriller-or-Suspense Market Share',\n",
       "       'Horror Market Share', 'Romantic-Comedy Market Share',\n",
       "       'Musical Market Share', 'Other Genres Market Share', 'Total Tickets',\n",
       "       'GDP % Growth', '% Income Annual Change, Chained Dollars'],\n",
       "      dtype='object')"
      ]
     },
     "execution_count": 32,
     "metadata": {},
     "output_type": "execute_result"
    }
   ],
   "source": [
    "col = data.columns[:len(data.columns)-3]\n",
    "income = data.columns[-1]\n",
    "headings=data.columns[:]\n",
    "summary = data.describe()\n",
    "headings"
   ]
  },
  {
   "cell_type": "code",
   "execution_count": 33,
   "metadata": {},
   "outputs": [],
   "source": [
    "stats = pd.DataFrame()\n",
    "for c in headings:\n",
    "    stats[c]=[summary[c][5],summary[c][1],summary[c][2]]\n",
    "stats.index = ['Med','Mean', 'StDev']"
   ]
  },
  {
   "cell_type": "code",
   "execution_count": 42,
   "metadata": {},
   "outputs": [
    {
     "ename": "ValueError",
     "evalue": "shape mismatch: objects cannot be broadcast to a single shape",
     "output_type": "error",
     "traceback": [
      "\u001b[0;31m---------------------------------------------------------------------------\u001b[0m",
      "\u001b[0;31mValueError\u001b[0m                                Traceback (most recent call last)",
      "\u001b[0;32m<ipython-input-42-55662eb7e0fe>\u001b[0m in \u001b[0;36m<module>\u001b[0;34m\u001b[0m\n\u001b[1;32m      7\u001b[0m \u001b[0;34m\u001b[0m\u001b[0m\n\u001b[1;32m      8\u001b[0m \u001b[0mfig\u001b[0m\u001b[0;34m,\u001b[0m \u001b[0max\u001b[0m \u001b[0;34m=\u001b[0m \u001b[0mplt\u001b[0m\u001b[0;34m.\u001b[0m\u001b[0msubplots\u001b[0m\u001b[0;34m(\u001b[0m\u001b[0;34m)\u001b[0m\u001b[0;34m\u001b[0m\u001b[0;34m\u001b[0m\u001b[0m\n\u001b[0;32m----> 9\u001b[0;31m \u001b[0mrects1\u001b[0m \u001b[0;34m=\u001b[0m \u001b[0max\u001b[0m\u001b[0;34m.\u001b[0m\u001b[0mbar\u001b[0m\u001b[0;34m(\u001b[0m\u001b[0mind\u001b[0m \u001b[0;34m-\u001b[0m \u001b[0mwidth\u001b[0m\u001b[0;34m/\u001b[0m\u001b[0;36m2\u001b[0m\u001b[0;34m,\u001b[0m \u001b[0mmeans\u001b[0m\u001b[0;34m,\u001b[0m \u001b[0mwidth\u001b[0m\u001b[0;34m,\u001b[0m \u001b[0myerr\u001b[0m\u001b[0;34m=\u001b[0m\u001b[0mstdev\u001b[0m\u001b[0;34m,\u001b[0m \u001b[0mlabel\u001b[0m\u001b[0;34m=\u001b[0m\u001b[0;34m'Mean'\u001b[0m\u001b[0;34m)\u001b[0m\u001b[0;34m\u001b[0m\u001b[0;34m\u001b[0m\u001b[0m\n\u001b[0m\u001b[1;32m     10\u001b[0m \u001b[0mrects2\u001b[0m \u001b[0;34m=\u001b[0m \u001b[0max\u001b[0m\u001b[0;34m.\u001b[0m\u001b[0mbar\u001b[0m\u001b[0;34m(\u001b[0m\u001b[0mind\u001b[0m \u001b[0;34m+\u001b[0m \u001b[0mwidth\u001b[0m\u001b[0;34m/\u001b[0m\u001b[0;36m2\u001b[0m\u001b[0;34m,\u001b[0m \u001b[0mmed\u001b[0m\u001b[0;34m,\u001b[0m \u001b[0mwidth\u001b[0m\u001b[0;34m,\u001b[0m \u001b[0myerr\u001b[0m\u001b[0;34m=\u001b[0m\u001b[0mstdev\u001b[0m\u001b[0;34m,\u001b[0m \u001b[0mlabel\u001b[0m\u001b[0;34m=\u001b[0m\u001b[0;34m'Median'\u001b[0m\u001b[0;34m)\u001b[0m\u001b[0;34m\u001b[0m\u001b[0;34m\u001b[0m\u001b[0m\n\u001b[1;32m     11\u001b[0m \u001b[0;34m\u001b[0m\u001b[0m\n",
      "\u001b[0;32m/opt/anaconda3/lib/python3.7/site-packages/matplotlib/__init__.py\u001b[0m in \u001b[0;36minner\u001b[0;34m(ax, data, *args, **kwargs)\u001b[0m\n\u001b[1;32m   1599\u001b[0m     \u001b[0;32mdef\u001b[0m \u001b[0minner\u001b[0m\u001b[0;34m(\u001b[0m\u001b[0max\u001b[0m\u001b[0;34m,\u001b[0m \u001b[0;34m*\u001b[0m\u001b[0margs\u001b[0m\u001b[0;34m,\u001b[0m \u001b[0mdata\u001b[0m\u001b[0;34m=\u001b[0m\u001b[0;32mNone\u001b[0m\u001b[0;34m,\u001b[0m \u001b[0;34m**\u001b[0m\u001b[0mkwargs\u001b[0m\u001b[0;34m)\u001b[0m\u001b[0;34m:\u001b[0m\u001b[0;34m\u001b[0m\u001b[0;34m\u001b[0m\u001b[0m\n\u001b[1;32m   1600\u001b[0m         \u001b[0;32mif\u001b[0m \u001b[0mdata\u001b[0m \u001b[0;32mis\u001b[0m \u001b[0;32mNone\u001b[0m\u001b[0;34m:\u001b[0m\u001b[0;34m\u001b[0m\u001b[0;34m\u001b[0m\u001b[0m\n\u001b[0;32m-> 1601\u001b[0;31m             \u001b[0;32mreturn\u001b[0m \u001b[0mfunc\u001b[0m\u001b[0;34m(\u001b[0m\u001b[0max\u001b[0m\u001b[0;34m,\u001b[0m \u001b[0;34m*\u001b[0m\u001b[0mmap\u001b[0m\u001b[0;34m(\u001b[0m\u001b[0msanitize_sequence\u001b[0m\u001b[0;34m,\u001b[0m \u001b[0margs\u001b[0m\u001b[0;34m)\u001b[0m\u001b[0;34m,\u001b[0m \u001b[0;34m**\u001b[0m\u001b[0mkwargs\u001b[0m\u001b[0;34m)\u001b[0m\u001b[0;34m\u001b[0m\u001b[0;34m\u001b[0m\u001b[0m\n\u001b[0m\u001b[1;32m   1602\u001b[0m \u001b[0;34m\u001b[0m\u001b[0m\n\u001b[1;32m   1603\u001b[0m         \u001b[0mbound\u001b[0m \u001b[0;34m=\u001b[0m \u001b[0mnew_sig\u001b[0m\u001b[0;34m.\u001b[0m\u001b[0mbind\u001b[0m\u001b[0;34m(\u001b[0m\u001b[0max\u001b[0m\u001b[0;34m,\u001b[0m \u001b[0;34m*\u001b[0m\u001b[0margs\u001b[0m\u001b[0;34m,\u001b[0m \u001b[0;34m**\u001b[0m\u001b[0mkwargs\u001b[0m\u001b[0;34m)\u001b[0m\u001b[0;34m\u001b[0m\u001b[0;34m\u001b[0m\u001b[0m\n",
      "\u001b[0;32m/opt/anaconda3/lib/python3.7/site-packages/matplotlib/axes/_axes.py\u001b[0m in \u001b[0;36mbar\u001b[0;34m(self, x, height, width, bottom, align, **kwargs)\u001b[0m\n\u001b[1;32m   2373\u001b[0m         x, height, width, y, linewidth = np.broadcast_arrays(\n\u001b[1;32m   2374\u001b[0m             \u001b[0;31m# Make args iterable too.\u001b[0m\u001b[0;34m\u001b[0m\u001b[0;34m\u001b[0m\u001b[0;34m\u001b[0m\u001b[0m\n\u001b[0;32m-> 2375\u001b[0;31m             np.atleast_1d(x), height, width, y, linewidth)\n\u001b[0m\u001b[1;32m   2376\u001b[0m \u001b[0;34m\u001b[0m\u001b[0m\n\u001b[1;32m   2377\u001b[0m         \u001b[0;31m# Now that units have been converted, set the tick locations.\u001b[0m\u001b[0;34m\u001b[0m\u001b[0;34m\u001b[0m\u001b[0;34m\u001b[0m\u001b[0m\n",
      "\u001b[0;32m<__array_function__ internals>\u001b[0m in \u001b[0;36mbroadcast_arrays\u001b[0;34m(*args, **kwargs)\u001b[0m\n",
      "\u001b[0;32m/opt/anaconda3/lib/python3.7/site-packages/numpy/lib/stride_tricks.py\u001b[0m in \u001b[0;36mbroadcast_arrays\u001b[0;34m(*args, **kwargs)\u001b[0m\n\u001b[1;32m    262\u001b[0m     \u001b[0margs\u001b[0m \u001b[0;34m=\u001b[0m \u001b[0;34m[\u001b[0m\u001b[0mnp\u001b[0m\u001b[0;34m.\u001b[0m\u001b[0marray\u001b[0m\u001b[0;34m(\u001b[0m\u001b[0m_m\u001b[0m\u001b[0;34m,\u001b[0m \u001b[0mcopy\u001b[0m\u001b[0;34m=\u001b[0m\u001b[0;32mFalse\u001b[0m\u001b[0;34m,\u001b[0m \u001b[0msubok\u001b[0m\u001b[0;34m=\u001b[0m\u001b[0msubok\u001b[0m\u001b[0;34m)\u001b[0m \u001b[0;32mfor\u001b[0m \u001b[0m_m\u001b[0m \u001b[0;32min\u001b[0m \u001b[0margs\u001b[0m\u001b[0;34m]\u001b[0m\u001b[0;34m\u001b[0m\u001b[0;34m\u001b[0m\u001b[0m\n\u001b[1;32m    263\u001b[0m \u001b[0;34m\u001b[0m\u001b[0m\n\u001b[0;32m--> 264\u001b[0;31m     \u001b[0mshape\u001b[0m \u001b[0;34m=\u001b[0m \u001b[0m_broadcast_shape\u001b[0m\u001b[0;34m(\u001b[0m\u001b[0;34m*\u001b[0m\u001b[0margs\u001b[0m\u001b[0;34m)\u001b[0m\u001b[0;34m\u001b[0m\u001b[0;34m\u001b[0m\u001b[0m\n\u001b[0m\u001b[1;32m    265\u001b[0m \u001b[0;34m\u001b[0m\u001b[0m\n\u001b[1;32m    266\u001b[0m     \u001b[0;32mif\u001b[0m \u001b[0mall\u001b[0m\u001b[0;34m(\u001b[0m\u001b[0marray\u001b[0m\u001b[0;34m.\u001b[0m\u001b[0mshape\u001b[0m \u001b[0;34m==\u001b[0m \u001b[0mshape\u001b[0m \u001b[0;32mfor\u001b[0m \u001b[0marray\u001b[0m \u001b[0;32min\u001b[0m \u001b[0margs\u001b[0m\u001b[0;34m)\u001b[0m\u001b[0;34m:\u001b[0m\u001b[0;34m\u001b[0m\u001b[0;34m\u001b[0m\u001b[0m\n",
      "\u001b[0;32m/opt/anaconda3/lib/python3.7/site-packages/numpy/lib/stride_tricks.py\u001b[0m in \u001b[0;36m_broadcast_shape\u001b[0;34m(*args)\u001b[0m\n\u001b[1;32m    189\u001b[0m     \u001b[0;31m# use the old-iterator because np.nditer does not handle size 0 arrays\u001b[0m\u001b[0;34m\u001b[0m\u001b[0;34m\u001b[0m\u001b[0;34m\u001b[0m\u001b[0m\n\u001b[1;32m    190\u001b[0m     \u001b[0;31m# consistently\u001b[0m\u001b[0;34m\u001b[0m\u001b[0;34m\u001b[0m\u001b[0;34m\u001b[0m\u001b[0m\n\u001b[0;32m--> 191\u001b[0;31m     \u001b[0mb\u001b[0m \u001b[0;34m=\u001b[0m \u001b[0mnp\u001b[0m\u001b[0;34m.\u001b[0m\u001b[0mbroadcast\u001b[0m\u001b[0;34m(\u001b[0m\u001b[0;34m*\u001b[0m\u001b[0margs\u001b[0m\u001b[0;34m[\u001b[0m\u001b[0;34m:\u001b[0m\u001b[0;36m32\u001b[0m\u001b[0;34m]\u001b[0m\u001b[0;34m)\u001b[0m\u001b[0;34m\u001b[0m\u001b[0;34m\u001b[0m\u001b[0m\n\u001b[0m\u001b[1;32m    192\u001b[0m     \u001b[0;31m# unfortunately, it cannot handle 32 or more arguments directly\u001b[0m\u001b[0;34m\u001b[0m\u001b[0;34m\u001b[0m\u001b[0;34m\u001b[0m\u001b[0m\n\u001b[1;32m    193\u001b[0m     \u001b[0;32mfor\u001b[0m \u001b[0mpos\u001b[0m \u001b[0;32min\u001b[0m \u001b[0mrange\u001b[0m\u001b[0;34m(\u001b[0m\u001b[0;36m32\u001b[0m\u001b[0;34m,\u001b[0m \u001b[0mlen\u001b[0m\u001b[0;34m(\u001b[0m\u001b[0margs\u001b[0m\u001b[0;34m)\u001b[0m\u001b[0;34m,\u001b[0m \u001b[0;36m31\u001b[0m\u001b[0;34m)\u001b[0m\u001b[0;34m:\u001b[0m\u001b[0;34m\u001b[0m\u001b[0;34m\u001b[0m\u001b[0m\n",
      "\u001b[0;31mValueError\u001b[0m: shape mismatch: objects cannot be broadcast to a single shape"
     ]
    },
    {
     "data": {
      "image/png": "[encoded data removed]",
      "text/plain": [
       "<Figure size 432x288 with 1 Axes>"
      ]
     },
     "metadata": {
      "needs_background": "light"
     },
     "output_type": "display_data"
    }
   ],
   "source": [
    "means =stats.loc['Mean']\n",
    "stdev = stats.loc['StDev']\n",
    "med = stats.loc['Med']\n",
    "\n",
    "ind = np.arange(10)  # the x locations for the groups\n",
    "width = 0.35  # the width of the bars\n",
    "\n",
    "fig, ax = plt.subplots()\n",
    "rects1 = ax.bar(ind - width/2, means, width, yerr=stdev, label='Mean')\n",
    "rects2 = ax.bar(ind + width/2, med, width, yerr=stdev, label='Median')\n",
    "\n",
    "\n",
    "\n",
    "#ax.set_ylabel('Scores')\n",
    "#ax.set_title('Scores by group and gender')\n",
    "ax.set_xticks(ind)\n",
    "ax.set_xticklabels(['Adv', 'Action', 'Drama','Com', 'Thril', 'Horr', 'RCom','Mus', 'Other', 'Ttl', 'GDP', 'Inc'])\n",
    "ax.legend()\n",
    "\n",
    "\n",
    "\n",
    "fig.tight_layout()\n",
    "\n",
    "\n",
    "plt.show()"
   ]
  },
  {
   "cell_type": "markdown",
   "metadata": {},
   "source": [
    "### Observations\n",
    "\n"
   ]
  },
  {
   "cell_type": "markdown",
   "metadata": {},
   "source": [
    "## GDP Impact on Tickets Sold"
   ]
  },
  {
   "cell_type": "markdown",
   "metadata": {},
   "source": []
  },
  {
   "cell_type": "markdown",
   "metadata": {},
   "source": [
    "## Income Impact on Tickets Sold"
   ]
  },
  {
   "cell_type": "markdown",
   "metadata": {},
   "source": [
    "The following plot shows the percent change in income in each year. This scatterplot allows us to see the trend of income over our time frame of interest (1995 to 2018)."
   ]
  },
  {
   "cell_type": "code",
   "execution_count": null,
   "metadata": {},
   "outputs": [],
   "source": [
    "income_raw = pd.DataFrame(data[\"% Income Annual Change, Chained Dollars\"])\n",
    "income= np.zeros(24)\n",
    "x = 0\n",
    "for value in income_raw.iterrows():\n",
    "    income[x] = income_raw.iloc(0)[x]\n",
    "    x+=1\n",
    "    \n",
    "print(\"Mean Percent Change in Income: \", income.mean())\n",
    "print(\"Standard Deviation of Percent Change in Income: \", income.std())\n",
    "\n",
    "plt.plot(range(1995,2019),income)\n",
    "plt.xlabel(\"Year\")\n",
    "plt.ylabel(\"Percent change in Income\")\n",
    "plt.title(\"Percent change in Income vs. Year\")\n",
    "plt.show()"
   ]
  },
  {
   "cell_type": "markdown",
   "metadata": {},
   "source": [
    "The following plot shows total movie ticket sales per year over our timeframe of interest (1995 to 2018)."
   ]
  },
  {
   "cell_type": "code",
   "execution_count": null,
   "metadata": {},
   "outputs": [],
   "source": [
    "tickets_raw = pd.DataFrame(data[\"Total Tickets\"])\n",
    "tickets = np.zeros(24)\n",
    "x = 0\n",
    "for value in tickets_raw.iterrows():\n",
    "    tickets[x] = tickets_raw.iloc(0)[x]\n",
    "    x+=1\n",
    "\n",
    "plt.plot(range(1995,2019),tickets)\n",
    "plt.xlabel(\"Year\")\n",
    "plt.ylabel(\"Movie Ticket Sales\")\n",
    "plt.title(\"Movie Ticket Sales vs. Year\")\n",
    "plt.show()"
   ]
  },
  {
   "cell_type": "markdown",
   "metadata": {},
   "source": [
    "### Model of relationships"
   ]
  },
  {
   "cell_type": "code",
   "execution_count": null,
   "metadata": {},
   "outputs": [],
   "source": [
    "model = LinearRegression().fit(data[[\"% Income Annual Change, Chained Dollars\"]], data[[\"Total Tickets\"]])\n",
    "\n",
    "cor = model.coef_[0]\n",
    "intercept=model.intercept_\n",
    "\n",
    "\n",
    "plt.scatter(data[[\"% Income Annual Change, Chained Dollars\"]], data[\"Total Tickets\"])\n",
    "plt.ylabel(\"Yearly Ticket Sales\")\n",
    "plt.xlabel(\"Yearly Percent change in Income\")\n",
    "plt.title(\"Yearly Percent change in Income vs. Movie Ticket Sales\")\n",
    "plt.show()"
   ]
  },
  {
   "cell_type": "markdown",
   "metadata": {},
   "source": [
    "### Evaluation of significance"
   ]
  },
  {
   "cell_type": "code",
   "execution_count": null,
   "metadata": {},
   "outputs": [],
   "source": [
    "rsq = np.corrcoef(data[\"Total Tickets\"],data[\"% Income Annual Change, Chained Dollars\"])[0][1]\n",
    "print(\"R Value of Correlation: \", rsq)"
   ]
  },
  {
   "cell_type": "markdown",
   "metadata": {},
   "source": [
    "What does the R^2 mean"
   ]
  },
  {
   "cell_type": "code",
   "execution_count": null,
   "metadata": {},
   "outputs": [],
   "source": [
    "spearman = spearmanr(data[\"% Income Annual Change, Chained Dollars\"], data[[\"Total Tickets\"]]).correlation \n",
    "print(\"Spearman Correlation Value: \",spearman)"
   ]
  },
  {
   "cell_type": "markdown",
   "metadata": {},
   "source": [
    "What does the spearman correlation mean"
   ]
  },
  {
   "cell_type": "markdown",
   "metadata": {},
   "source": [
    "## GDP Impact on Market Share of Genres"
   ]
  },
  {
   "cell_type": "markdown",
   "metadata": {},
   "source": [
    "## Income Impact on Market Share of Genres"
   ]
  },
  {
   "cell_type": "markdown",
   "metadata": {},
   "source": [
    "### Line of Best Fit and Scatter Plot"
   ]
  },
  {
   "cell_type": "code",
   "execution_count": null,
   "metadata": {},
   "outputs": [],
   "source": [
    "xaxs = 0\n",
    "yaxs = 0\n",
    "\n",
    "fig, axs = plt.subplots(3, 3, figsize=(17, 17))\n",
    "fig.suptitle('Genre Market Share Based on ' + income, fontsize=20)\n",
    "\n",
    "for c in col:\n",
    "    #CREATING THE LINE OF BEST FIT\n",
    "    model = LinearRegression().fit(data[[income]], data[c])\n",
    "    score= model.coef_[0]\n",
    "    intercept=model.intercept_\n",
    "    x = np.linspace(-5,7,100)\n",
    "    y = score*x+intercept\n",
    "    axs[xaxs, yaxs].plot(x, y)\n",
    "    \n",
    "    \n",
    "\n",
    "    #CREATING THE SCATTERPLOT\n",
    "    axs[xaxs, yaxs].scatter(data[income], data[c], color = 'deepskyblue')\n",
    "    axs[xaxs, yaxs].set_title(c)\n",
    "    #axs[xaxs, yaxs].set_xlabel(income)\n",
    "    #axs[xaxs, yaxs].set_ylabel(c)\n",
    "    xaxs +=1\n",
    "    if xaxs == 3:\n",
    "        xaxs = 0\n",
    "        yaxs +=1\n",
    "\n",
    "plt.show()"
   ]
  },
  {
   "cell_type": "markdown",
   "metadata": {},
   "source": [
    "### Residuals StDev"
   ]
  },
  {
   "cell_type": "code",
   "execution_count": null,
   "metadata": {},
   "outputs": [],
   "source": [
    "for c in col:\n",
    "    x=data[income]\n",
    "    mean_x=x.mean()\n",
    "    y=data[c]\n",
    "    mean_y=y.mean()\n",
    "    n=len(data[income])\n",
    "    slope = np.sum((x - mean_x) * (y - mean_y)) / np.sum((y - mean_y)**2)\n",
    "    intercept = mean_x - slope * mean_y\n",
    "    predicted_x = y * slope + intercept\n",
    "    residuals = x - predicted_x\n",
    "    residual_std = np.sqrt(np.sum((residuals - residuals.mean())**2) / n)\n",
    "    print(c)\n",
    "    print('{:.3f}'.format(residual_std))"
   ]
  },
  {
   "cell_type": "markdown",
   "metadata": {},
   "source": [
    "### Finding r"
   ]
  },
  {
   "cell_type": "code",
   "execution_count": 37,
   "metadata": {},
   "outputs": [
    {
     "name": "stdout",
     "output_type": "stream",
     "text": [
      "Adventure Market Share : -0.365\n",
      "Action Market Share : -0.005\n",
      "Drama Market Share : 0.500\n",
      "Comedy Market Share : -0.070\n",
      "Thriller-or-Suspense Market Share : 0.089\n",
      "Horror Market Share : -0.004\n",
      "Romantic-Comedy Market Share : 0.139\n",
      "Musical Market Share : -0.142\n",
      "Other Genres Market Share : -0.261\n"
     ]
    }
   ],
   "source": [
    "rvalues=[]\n",
    "for c in col:\n",
    "    r= np.corrcoef(data[income], data[c])[0][1]\n",
    "    rvalues.append(r)\n",
    "    print(c, ':', '{:.3f}'.format(r))"
   ]
  },
  {
   "cell_type": "code",
   "execution_count": 38,
   "metadata": {},
   "outputs": [
    {
     "name": "stdout",
     "output_type": "stream",
     "text": [
      "Adventure Market Share -0.36537483796814235\n",
      "Drama Market Share 0.49976989083829354\n"
     ]
    }
   ],
   "source": [
    "relationship=[]\n",
    "for i in range(len(col)):\n",
    "    if abs(rvalues[i])>0.3:\n",
    "        relationship.append(col[i])\n",
    "        print(col[i], rvalues[i])"
   ]
  },
  {
   "cell_type": "markdown",
   "metadata": {},
   "source": [
    "### Hypothesis Testing"
   ]
  },
  {
   "cell_type": "code",
   "execution_count": 39,
   "metadata": {},
   "outputs": [],
   "source": [
    "# permutation of data for a given genre c\n",
    "def permuted_y(c):\n",
    "    return np.random.permutation(data[c].copy())\n",
    "\n",
    "def findtheslope(x,c):\n",
    "    #creates a dataframe with a permutated y and returns the slope \n",
    "    #purpose: ensure that ny, ndf, and nmodel are local variable that can be rewritten with each function call\n",
    "    ny=permuted_y(c)\n",
    "    ndf=pd.DataFrame({'ny':ny})\n",
    "    nmodel=LinearRegression().fit(x,ndf[['ny']])\n",
    "    return nmodel.coef_[0][0]"
   ]
  },
  {
   "cell_type": "code",
   "execution_count": 40,
   "metadata": {},
   "outputs": [
    {
     "data": {
      "image/png": "[encoded data removed]",
      "text/plain": [
       "<Figure size 432x288 with 1 Axes>"
      ]
     },
     "metadata": {
      "needs_background": "light"
     },
     "output_type": "display_data"
    },
    {
     "data": {
      "image/png": "[encoded data removed]",
      "text/plain": [
       "<Figure size 432x288 with 1 Axes>"
      ]
     },
     "metadata": {
      "needs_background": "light"
     },
     "output_type": "display_data"
    }
   ],
   "source": [
    "xaxs = 0\n",
    "yaxs = 0\n",
    "trials=1000\n",
    "\n",
    "\n",
    "for c in relationship:  \n",
    "    newarray = np.zeros(trials)\n",
    "    for i in range(len(newarray)):\n",
    "        newarray[i]=findtheslope(data[[c]],c)\n",
    "    \n",
    "    #Trying to find the value of the slope\n",
    "    model = LinearRegression().fit(data[[income]], data[c])\n",
    "    score= model.coef_[0]\n",
    "    y = list(range(0, 250))\n",
    "    x = np.full((1,250),score)[0]\n",
    "    plt.plot(x, y, 'r')\n",
    "    \n",
    "    y = list(range(0, 250))\n",
    "    x = np.full((1,250),(-1*score))[0]\n",
    "    plt.plot(x, y, 'r')\n",
    "    \n",
    "    plt.hist(newarray, color = 'deepskyblue')\n",
    "    plt.title(c)\n",
    "    plt.xlabel('Slope of the Regression')\n",
    "    plt.ylabel('Frequency')\n",
    "    plt.show()"
   ]
  },
  {
   "cell_type": "markdown",
   "metadata": {},
   "source": [
    "## Joint Models (?) Maybe Other Economic Parameter? Maybe Other Geographic Locations? Canada? We need more data lol"
   ]
  },
  {
   "cell_type": "markdown",
   "metadata": {},
   "source": []
  }
 ],
 "metadata": {
  "kernelspec": {
   "display_name": "Python 3",
   "language": "python",
   "name": "python3"
  },
  "language_info": {
   "codemirror_mode": {
    "name": "ipython",
    "version": 3
   },
   "file_extension": ".py",
   "mimetype": "text/x-python",
   "name": "python",
   "nbconvert_exporter": "python",
   "pygments_lexer": "ipython3",
   "version": "3.7.4"
  }
 },
 "nbformat": 4,
 "nbformat_minor": 2
}
